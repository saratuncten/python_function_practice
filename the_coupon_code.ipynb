{
 "cells": [
  {
   "cell_type": "markdown",
   "metadata": {},
   "source": [
    "Your online store likes to give out coupons for special occasions. Some customers try to cheat the system by entering invalid codes or using expired coupons.\n",
    "\n",
    "Write a function called checkCoupon which verifies that a coupon code is valid and not expired.\n",
    "\n",
    "A coupon is no more valid on the day AFTER the expiration date. All dates will be passed as strings in this format: \"MONTH DATE, YEAR\"."
   ]
  },
  {
   "cell_type": "code",
   "execution_count": 3,
   "metadata": {},
   "outputs": [],
   "source": [
    "from datetime import datetime\n",
    "def check_coupon(entered_code, correct_code, current_date, expiration_date):\n",
    "    currentdate = datetime.strptime(current_date, '%B %d, %Y')\n",
    "    expirationdate = datetime.strptime(expiration_date, '%B %d, %Y')\n",
    "    if str(entered_code) == str(correct_code) and expirationdate >= currentdate and type(entered_code) == type(correct_code):\n",
    "        return True\n",
    "    else:\n",
    "        return False"
   ]
  },
  {
   "cell_type": "code",
   "execution_count": 5,
   "metadata": {},
   "outputs": [
    {
     "data": {
      "text/plain": [
       "True"
      ]
     },
     "execution_count": 5,
     "metadata": {},
     "output_type": "execute_result"
    }
   ],
   "source": [
    "check_coupon(\"123\", \"123\", \"July 9, 2015\", \"July 9, 2015\")  == True\n",
    "check_coupon(\"123\", \"123\", \"July 9, 2015\", \"July 2, 2015\")  == False"
   ]
  }
 ],
 "metadata": {
  "kernelspec": {
   "display_name": "Python 3",
   "language": "python",
   "name": "python3"
  },
  "language_info": {
   "codemirror_mode": {
    "name": "ipython",
    "version": 3
   },
   "file_extension": ".py",
   "mimetype": "text/x-python",
   "name": "python",
   "nbconvert_exporter": "python",
   "pygments_lexer": "ipython3",
   "version": "3.7.4"
  }
 },
 "nbformat": 4,
 "nbformat_minor": 2
}
