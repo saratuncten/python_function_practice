# compare each pair of integers from 2 arrays, return new array of large numbers

import numpy as np
def get_larger_numbers(a, b):
    return np.maximum(a,b).tolist()
