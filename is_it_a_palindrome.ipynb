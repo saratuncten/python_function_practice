# write a function that checks if a given string (case insentive) is a palindrome

def is_palindrome(s):
    backwards = [str(x).lower() for x in s]
    forwards = [str(x).lower() for x in s]
    backwards.reverse()
    return backwards == forwards
